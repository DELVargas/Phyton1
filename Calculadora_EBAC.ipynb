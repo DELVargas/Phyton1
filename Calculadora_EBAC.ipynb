{
  "nbformat": 4,
  "nbformat_minor": 0,
  "metadata": {
    "colab": {
      "provenance": []
    },
    "kernelspec": {
      "name": "python3",
      "display_name": "Python 3"
    },
    "language_info": {
      "name": "python"
    }
  },
  "cells": [
    {
      "cell_type": "code",
      "execution_count": 11,
      "metadata": {
        "colab": {
          "base_uri": "https://localhost:8080/"
        },
        "id": "z8rc6vwdU6nK",
        "outputId": "ad12ec54-070f-49f2-9a92-6381fe9c1cbe"
      },
      "outputs": [
        {
          "output_type": "stream",
          "name": "stdout",
          "text": [
            "Escolha uma operação:\n",
            "1. Adição\n",
            "2. Subtração\n",
            "3. Multiplicação\n",
            "4. Divisão\n",
            "Digite o número da operação (1/2/3/4): 1\n",
            "Digite o primeiro número: 1000\n",
            "Digite o segundo número: 2000\n",
            "O resultado da adição é: 3000.0\n",
            "Deseja realizar outra operação? (sim/não): não\n",
            "Obrigado por utilizar a calculadora!\n"
          ]
        }
      ],
      "source": [
        "# Função para realizar as Operações\n",
        "def calcular():\n",
        "    print(\"Escolha uma operação:\")\n",
        "    print(\"1. Adição\")\n",
        "    print(\"2. Subtração\")\n",
        "    print(\"3. Multiplicação\")\n",
        "    print(\"4. Divisão\")\n",
        "\n",
        "    operacao = input(\"Digite o número da operação (1/2/3/4): \")  # Recebe a operação escolhida pelo usuário.\n",
        "\n",
        "    # Recebe os números de entrada do usuário para converter\n",
        "    try:\n",
        "        num1 = float(input(\"Digite o primeiro número: \"))\n",
        "        num2 = float(input(\"Digite o segundo número: \"))\n",
        "    except ValueError:\n",
        "        print(\"Por favor, insira números válidos.\") # Função adicionada para que o usuário insira apenas números e não letras, evitando a quebra do progama.\n",
        "        return\n",
        "\n",
        "    # Realiza a opção escolhida\n",
        "    if operacao == '1':\n",
        "        resultado = num1 + num2\n",
        "        print(f\"O resultado da adição é: {resultado}\")\n",
        "\n",
        "    elif operacao == '2':\n",
        "        resultado = num1 - num2\n",
        "        print(f\"O resultado da subtração é: {resultado}\")\n",
        "\n",
        "    elif operacao == '3':\n",
        "        resultado = num1 * num2\n",
        "        print(f\"O resultado da multiplicação é: {resultado}\")\n",
        "\n",
        "    elif operacao == '4':\n",
        "        if num2 != 0:\n",
        "            resultado = num1 / num2\n",
        "            print(f\"O resultado da divisão é: {resultado}\")\n",
        "        else:\n",
        "            print(\"Erro! Não é possível dividir por zero.\")\n",
        "\n",
        "    else:\n",
        "        print(\"Operação inválida. Tente novamente.\")\n",
        "\n",
        "# Loop principal para permitir múltiplas operações\n",
        "while True:\n",
        "    calcular()\n",
        "    continuar = input(\"Deseja realizar outra operação? (sim/não): \").lower()\n",
        "    if continuar != \"sim\":\n",
        "        print(\"Obrigado por utilizar a calculadora!\")\n",
        "        break\n"
      ]
    }
  ]
}